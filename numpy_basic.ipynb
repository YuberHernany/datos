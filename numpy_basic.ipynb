{
 "cells": [
  {
   "cell_type": "markdown",
   "metadata": {},
   "source": [
    "# NumPy Básico:\n",
    "Cómputo en Python"
   ]
  },
  {
   "cell_type": "markdown",
   "metadata": {},
   "source": [
    "NumPy aporta eficiencia en el cómputo, mejorando el desempeño que tiene Python sobre las listas."
   ]
  },
  {
   "cell_type": "code",
   "execution_count": 1,
   "metadata": {},
   "outputs": [],
   "source": [
    "import numpy as np \n",
    "# existen otras formas menos recomendadas como la importación masiva:\n",
    "# from numpy import *"
   ]
  },
  {
   "cell_type": "code",
   "execution_count": 2,
   "metadata": {},
   "outputs": [],
   "source": [
    "N = 1000000\n",
    "my_arr = np.arange(N)\n",
    "my_list = [n for n in range(N)]"
   ]
  },
  {
   "cell_type": "code",
   "execution_count": 3,
   "metadata": {},
   "outputs": [
    {
     "name": "stdout",
     "output_type": "stream",
     "text": [
      "CPU times: user 30 ms, sys: 219 µs, total: 30.2 ms\n",
      "Wall time: 38.4 ms\n"
     ]
    }
   ],
   "source": [
    "%time for _ in range(10): my_arr2 = my_arr * 2 # tiempo de cómputo en NumPy"
   ]
  },
  {
   "cell_type": "code",
   "execution_count": 4,
   "metadata": {},
   "outputs": [
    {
     "name": "stdout",
     "output_type": "stream",
     "text": [
      "CPU times: user 621 ms, sys: 151 ms, total: 772 ms\n",
      "Wall time: 778 ms\n"
     ]
    }
   ],
   "source": [
    "%time for _ in range(10): my_list2 = [2 * x for x in my_list] # tiempo de cómputo sin NumPy"
   ]
  },
  {
   "cell_type": "markdown",
   "metadata": {},
   "source": [
    "## Objeto fundamental `ndarray`\n",
    "Dichos objetos se pueden manipular con una sintaxis similar a la usada en matemáticas"
   ]
  },
  {
   "cell_type": "code",
   "execution_count": 5,
   "metadata": {},
   "outputs": [
    {
     "name": "stdout",
     "output_type": "stream",
     "text": [
      "[[ 1.54519215  0.26345251  0.23052983]\n",
      " [ 0.25050172  1.95972764 -1.37420131]]\n",
      "tipo de dato del arreglo:  <class 'numpy.ndarray'>\n",
      "tipo de dato de las componentes internas del arreglo:  float64\n",
      "'dimensiones' del arreglo:  (2, 3)\n"
     ]
    }
   ],
   "source": [
    "data = np.random.randn(2, 3)\n",
    "print(data)\n",
    "print(\"tipo de dato del arreglo: \" , type(data))\n",
    "print(\"tipo de dato de las componentes internas del arreglo: \", data.dtype)\n",
    "print(\"'dimensiones' del arreglo: \", data.shape)"
   ]
  },
  {
   "cell_type": "code",
   "execution_count": 6,
   "metadata": {},
   "outputs": [
    {
     "data": {
      "text/plain": [
       "array([[ 15.45192152,   2.63452514,   2.30529834],\n",
       "       [  2.50501717,  19.59727636, -13.74201306]])"
      ]
     },
     "execution_count": 6,
     "metadata": {},
     "output_type": "execute_result"
    }
   ],
   "source": [
    "# multiplicación por escalar\n",
    "10*data"
   ]
  },
  {
   "cell_type": "code",
   "execution_count": 7,
   "metadata": {},
   "outputs": [
    {
     "data": {
      "text/plain": [
       "array([[ 3.0903843 ,  0.52690503,  0.46105967],\n",
       "       [ 0.50100343,  3.91945527, -2.74840261]])"
      ]
     },
     "execution_count": 7,
     "metadata": {},
     "output_type": "execute_result"
    }
   ],
   "source": [
    "# suma componente a componente\n",
    "data + data"
   ]
  },
  {
   "cell_type": "markdown",
   "metadata": {},
   "source": [
    "## Creación de `ndarrays`"
   ]
  },
  {
   "cell_type": "code",
   "execution_count": 8,
   "metadata": {},
   "outputs": [
    {
     "name": "stdout",
     "output_type": "stream",
     "text": [
      "El arreglo es: [1.  1.2 3. ] \n",
      " La cantidad de ejes de almacenamiento de los datos es: 1\n"
     ]
    }
   ],
   "source": [
    "data1 = [1, 1.2, 3]\n",
    "arr1 = np.array(data1) # la función constructora array recibe iterables\n",
    "print(f\"El arreglo es: {arr1} \\n La cantidad de ejes de almacenamiento de los datos es: {arr1.ndim}\")"
   ]
  },
  {
   "cell_type": "code",
   "execution_count": 9,
   "metadata": {},
   "outputs": [
    {
     "name": "stdout",
     "output_type": "stream",
     "text": [
      "El arreglo es: \n",
      " [[1 2 3]\n",
      " [3 2 1]] \n",
      " La cantidad de ejes de almacenamiento de los datos es: 2\n"
     ]
    }
   ],
   "source": [
    "data2 = [[1,2,3], [3,2,1]]\n",
    "arr2 = np.array(data2)\n",
    "print(f\"El arreglo es: \\n {arr2} \\n La cantidad de ejes de almacenamiento de los datos es: {arr2.ndim}\")"
   ]
  },
  {
   "cell_type": "code",
   "execution_count": 10,
   "metadata": {},
   "outputs": [
    {
     "name": "stdout",
     "output_type": "stream",
     "text": [
      "Arreglos de ceros: \n",
      "[[0. 0.]\n",
      " [0. 0.]]\n",
      "Arreglos de unos: \n",
      "[[1. 1. 1.]\n",
      " [1. 1. 1.]]\n",
      "Arreglos de constantes: \n",
      "[[7 7 7 7 7]]\n",
      "Arreglos de sucesiones aritméticas: \n",
      "[ 3  6  9 12]\n"
     ]
    }
   ],
   "source": [
    "# constructores de arreglos habituales\n",
    "print(\"Arreglos de ceros: \")\n",
    "print(np.zeros((2,2)))  # también existe np.zeros_like()\n",
    "print(\"Arreglos de unos: \")\n",
    "print(np.ones((2,3))) # también existe np.ones_like()\n",
    "print(\"Arreglos de constantes: \")\n",
    "print(np.full((1,5), 7))\n",
    "print(\"Arreglos de sucesiones aritméticas: \")\n",
    "print(np.arange(3, 15, 3)) # np.arange(start:included, stop:not-included, step)\n"
   ]
  },
  {
   "cell_type": "markdown",
   "metadata": {},
   "source": [
    "## Rebanado\n",
    "\n",
    "La indexación o numeración comienza en 0. Las entradas de un array 2D son filas de una matriz. Para acceder a una sola entrada de un array 2D, se usa doble índice separado por coma.\n",
    "\n",
    "<img src = 'slicing.png' height=150> "
   ]
  },
  {
   "cell_type": "markdown",
   "metadata": {},
   "source": [
    "* La notación de los dos puntos \"`:`\", indica la referencia a toda una fila o a toda una columna.\n",
    "\n",
    "* La notación `[a:b]`, indica: *desde **a** hasta **b** (**b** no incluido)*.\n",
    "\n",
    "* La notación `[a:]`, indica: *desde **a** hasta el final*.\n",
    "\n",
    "* La notación `[:b]`, indica: *desde el inicio hasta **b** (**b** no incluido)*.\n",
    "\n",
    "<img src = 'slicing2.png' height=300> "
   ]
  },
  {
   "cell_type": "markdown",
   "metadata": {},
   "source": [
    "Para crear arrumes horizontales y verticales de ndarray's, use `np.hstack()` y `np.vstack()` respectivamente\n",
    "\n",
    "<img src = 'stack1.png' height=300> \n",
    "<img src = 'stack2.png' height=300> \n"
   ]
  },
  {
   "cell_type": "markdown",
   "metadata": {},
   "source": [
    "El arrume de Los arreglos 1D se entiende como concatenación. Para arrumar columnas 1D use `np.column_stack()`\n",
    "<img src = 'stack3.png' height=300> "
   ]
  },
  {
   "cell_type": "markdown",
   "metadata": {},
   "source": [
    "#### Broadcasting"
   ]
  },
  {
   "cell_type": "markdown",
   "metadata": {},
   "source": [
    "<img src = 'broadcasting1.png'> \n",
    "<img src = 'broadcasting2.png'> \n",
    "<img src = 'broadcasting3.png'> "
   ]
  },
  {
   "cell_type": "markdown",
   "metadata": {},
   "source": [
    "#### Funciones de agregación\n",
    "\n",
    "<img src = 'aggregation_func1.png'> \n",
    "<img src = 'aggregation_func2.png'> \n",
    "<img src = 'aggregation_func3.png'> \n"
   ]
  },
  {
   "cell_type": "markdown",
   "metadata": {},
   "source": [
    "## Funciones universales.\n",
    "Término a término y binarias"
   ]
  },
  {
   "cell_type": "code",
   "execution_count": 11,
   "metadata": {},
   "outputs": [
    {
     "name": "stdout",
     "output_type": "stream",
     "text": [
      "datos originales: \n",
      " [[ 1.54519215  0.26345251  0.23052983]\n",
      " [ 0.25050172  1.95972764 -1.37420131]]\n",
      "raíz término a término: \n",
      " [[1.24305758 0.51327625 0.48013522]\n",
      " [0.50050147 1.39990272        nan]]\n"
     ]
    },
    {
     "name": "stderr",
     "output_type": "stream",
     "text": [
      "<ipython-input-11-be43a33a052b>:2: RuntimeWarning: invalid value encountered in sqrt\n",
      "  print('raíz término a término: \\n', np.sqrt(data))\n"
     ]
    }
   ],
   "source": [
    "print('datos originales: \\n', data)\n",
    "print('raíz término a término: \\n', np.sqrt(data))\n",
    "# print(\"exponencial término a término: \\n\", np.exp(data))\n",
    "# print(\"valor absoluto término a término: \\n\", np.abs(-data))\n",
    "# print(\"signo término a término: \\n\", np.sign(-data))\n",
    "# print(\"coseno término a término: \\n\", np.cos(data))\n",
    "# print(\"logaritmo término a término: \\n\", np.log(data))\n",
    "\n"
   ]
  },
  {
   "cell_type": "markdown",
   "metadata": {},
   "source": [
    "En el siguiente ejemplo notamos el beneficio de no usar estatuto `for` promoviendo simplicidad"
   ]
  },
  {
   "cell_type": "code",
   "execution_count": 12,
   "metadata": {},
   "outputs": [
    {
     "data": {
      "image/png": "[encoded data removed]",
      "text/plain": [
       "<Figure size 432x288 with 2 Axes>"
      ]
     },
     "metadata": {
      "needs_background": "light"
     },
     "output_type": "display_data"
    }
   ],
   "source": [
    "import numpy as np\n",
    "import matplotlib.pyplot as plt\n",
    "\n",
    "# se quiere graficar sqrt(x**2 + y**2)\n",
    "vals = np.linspace(-5,5) # array1d con 50 valors\n",
    "xs, ys = np.meshgrid(vals, vals) # matrices 2d con 50x50 valores\n",
    "zs = np.sqrt(xs ** 2 + ys ** 2)\n",
    "plt.imshow(zs); plt.colorbar(); plt.show()"
   ]
  },
  {
   "cell_type": "code",
   "execution_count": 13,
   "metadata": {},
   "outputs": [
    {
     "data": {
      "image/png": "[encoded data removed]",
      "text/plain": [
       "<Figure size 432x288 with 1 Axes>"
      ]
     },
     "metadata": {
      "needs_background": "light"
     },
     "output_type": "display_data"
    }
   ],
   "source": [
    "fig  = plt.figure()\n",
    "ax = plt.axes(projection='3d')\n",
    "ax.contour(xs, ys, zs, 50, cmap='binary')\n",
    "plt.show()"
   ]
  },
  {
   "cell_type": "markdown",
   "metadata": {},
   "source": [
    "#### Métodos matemáticos y estadísticos\n",
    "\n",
    "Las funciones `sum`, `mean` y `std` son ejemplos de métodos sobre arreglos de NumPy."
   ]
  },
  {
   "cell_type": "code",
   "execution_count": 14,
   "metadata": {},
   "outputs": [
    {
     "data": {
      "text/plain": [
       "6.666666666666667"
      ]
     },
     "execution_count": 14,
     "metadata": {},
     "output_type": "execute_result"
    }
   ],
   "source": [
    "import numpy as np\n",
    "\n",
    "arr = np.arange(9).reshape(3,3)\n",
    "\n",
    "np.sum(arr) # primer método\n",
    "arr.sum() # segundo método\n",
    "np.mean(arr)\n",
    "arr.mean()\n",
    "np.std(arr)\n",
    "arr.std()\n",
    "np.var(arr)\n",
    "arr.var()"
   ]
  },
  {
   "cell_type": "markdown",
   "metadata": {},
   "source": [
    "Se puede pasar como argumento `axis=0` (varía de fila en fila, es decir, a lo largo de columnas) o `axis=1` (y varía de columna en columna, es decir, a lo largo de filas)"
   ]
  },
  {
   "cell_type": "code",
   "execution_count": 15,
   "metadata": {},
   "outputs": [
    {
     "name": "stdout",
     "output_type": "stream",
     "text": [
      "[[0 1 2]\n",
      " [3 4 5]\n",
      " [6 7 8]]\n",
      "[ 9 12 15]\n",
      "[ 3 12 21]\n",
      "[0 1 2]\n",
      "[2 5 8]\n"
     ]
    }
   ],
   "source": [
    "print(arr)\n",
    "print(arr.sum(axis=0)) # suma a lo largo de columnas\n",
    "print(arr.sum(axis=1)) # suma a lo largo de filas\n",
    "# además de poder usar axis=0, axis=1 para var, std y mean, también se puede usar min, max\n",
    "print(arr.min(axis=0))\n",
    "print(arr.max(axis=1))"
   ]
  },
  {
   "cell_type": "markdown",
   "metadata": {},
   "source": [
    "Métodos para booleanos sobre arrays"
   ]
  },
  {
   "cell_type": "markdown",
   "metadata": {},
   "source": [
    "`any` y `all` son dos métodos útiles para trabajar con arrays de boleanos"
   ]
  },
  {
   "cell_type": "code",
   "execution_count": 19,
   "metadata": {},
   "outputs": [
    {
     "data": {
      "text/plain": [
       "False"
      ]
     },
     "execution_count": 19,
     "metadata": {},
     "output_type": "execute_result"
    }
   ],
   "source": [
    "import numpy as np\n",
    "arr = np.random.randn(4,4)\n",
    "arr > 0 # array de booleanos\n",
    "(arr > 0).sum() # cantidad de entradas que cumplen la condición\n",
    "(arr > 0).any() # verifica si ALGUNA entrada cumple la condición\n",
    "(arr > 0).all() # verifica si TODAS las entradas cumplen la condición"
   ]
  },
  {
   "cell_type": "code",
   "execution_count": null,
   "metadata": {},
   "outputs": [],
   "source": []
  }
 ],
 "metadata": {
  "kernelspec": {
   "display_name": "Python 3.9.5 64-bit",
   "language": "python",
   "name": "python3"
  },
  "language_info": {
   "codemirror_mode": {
    "name": "ipython",
    "version": 3
   },
   "file_extension": ".py",
   "mimetype": "text/x-python",
   "name": "python",
   "nbconvert_exporter": "python",
   "pygments_lexer": "ipython3",
   "version": "3.9.5"
  },
  "orig_nbformat": 4,
  "vscode": {
   "interpreter": {
    "hash": "e7370f93d1d0cde622a1f8e1c04877d8463912d04d973331ad4851f04de6915a"
   }
  }
 },
 "nbformat": 4,
 "nbformat_minor": 2
}
