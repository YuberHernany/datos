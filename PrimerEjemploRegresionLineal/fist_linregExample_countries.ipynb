{
 "cells": [
  {
   "cell_type": "markdown",
   "metadata": {},
   "source": [
    "#### Ejemplo de regresión lineal \n",
    "\n",
    "Modelo que relaciona el dinero con la felicidad. Se tienen en cuenta, las variables: \n",
    "OECD's life satisfaction (emitida por la Organización para la Cooperación y el Desarrollo Económico)\n",
    "y IMF's GDP per capita data (emitido por el Fondo Monetario Internacional (FMI)).\n",
    "\n",
    "**(Variable objetivo) OECD's life satisfaction**:\n",
    "\n",
    "El Índice para una Vida Mejor (en inglés, Better Life Index, o BLI) es un índice económico-social creado por la OCDE en 2011. El Índice para una Vida Mejor permite a las personas comparar los países según sus propias preferencias a través de 11 criterios considerados como esenciales para el bienestar de la población:\n",
    "\n",
    "    Vivienda: condiciones de la vivienda, número de habitaciones por persona y gasto relativo en vivienda.\n",
    "    Ingresos: ingresos de la unidad familiar (después de impuestos) y riqueza financiera\n",
    "    Empleo: salarios, seguridad laboral y desempleo\n",
    "    Comunidad: calidad de la red de apoyo social de las personas\n",
    "    Educación: años de educación, logros educativos y competencias de los estudiantes\n",
    "    Medio ambiente: calidad del mediomabiente, contaminación, calidad del agua\n",
    "    Compromiso cívico: confianza en las instituciones públicas, transparencia democrática, participación electoral\n",
    "    Salud: esperanza de vida, nivel de salud percibida\n",
    "    Satisfacción: nivel de satisfacción con la vida\n",
    "    Seguridad: sentimiento de seguridad al caminar a solas por la noche, tasa de homicidios\n",
    "    Equilibrio vida-trabajo: exceso de horas de trabajo, tiempo dedicado al ocio y el cuidado personal\n",
    "\n",
    "**(Variable independiente) IMF's GDP per capita data**:\n",
    "\n",
    "El valor total de todos los bienes y servicios producidos por un país en un año en particular, dividido por el número de personas que viven allí.\n",
    "\n",
    "\n",
    "\n"
   ]
  },
  {
   "cell_type": "code",
   "execution_count": 29,
   "metadata": {},
   "outputs": [],
   "source": [
    "import numpy as np\n",
    "import pandas as pd\n",
    "import matplotlib.pyplot as plt\n",
    "from sklearn.linear_model import LinearRegression"
   ]
  },
  {
   "cell_type": "code",
   "execution_count": 30,
   "metadata": {},
   "outputs": [
    {
     "data": {
      "text/html": [
       "<div>\n",
       "<style scoped>\n",
       "    .dataframe tbody tr th:only-of-type {\n",
       "        vertical-align: middle;\n",
       "    }\n",
       "\n",
       "    .dataframe tbody tr th {\n",
       "        vertical-align: top;\n",
       "    }\n",
       "\n",
       "    .dataframe thead th {\n",
       "        text-align: right;\n",
       "    }\n",
       "</style>\n",
       "<table border=\"1\" class=\"dataframe\">\n",
       "  <thead>\n",
       "    <tr style=\"text-align: right;\">\n",
       "      <th></th>\n",
       "      <th>Country</th>\n",
       "      <th>GDP per capita</th>\n",
       "      <th>Life satisfaction</th>\n",
       "    </tr>\n",
       "  </thead>\n",
       "  <tbody>\n",
       "    <tr>\n",
       "      <th>24</th>\n",
       "      <td>Iceland</td>\n",
       "      <td>50854.583</td>\n",
       "      <td>7.5</td>\n",
       "    </tr>\n",
       "    <tr>\n",
       "      <th>25</th>\n",
       "      <td>Australia</td>\n",
       "      <td>50961.865</td>\n",
       "      <td>7.3</td>\n",
       "    </tr>\n",
       "    <tr>\n",
       "      <th>26</th>\n",
       "      <td>Ireland</td>\n",
       "      <td>51350.744</td>\n",
       "      <td>7.0</td>\n",
       "    </tr>\n",
       "    <tr>\n",
       "      <th>27</th>\n",
       "      <td>Denmark</td>\n",
       "      <td>52114.165</td>\n",
       "      <td>7.5</td>\n",
       "    </tr>\n",
       "    <tr>\n",
       "      <th>28</th>\n",
       "      <td>United States</td>\n",
       "      <td>55805.204</td>\n",
       "      <td>7.2</td>\n",
       "    </tr>\n",
       "  </tbody>\n",
       "</table>\n",
       "</div>"
      ],
      "text/plain": [
       "          Country  GDP per capita  Life satisfaction\n",
       "24        Iceland       50854.583                7.5\n",
       "25      Australia       50961.865                7.3\n",
       "26        Ireland       51350.744                7.0\n",
       "27        Denmark       52114.165                7.5\n",
       "28  United States       55805.204                7.2"
      ]
     },
     "execution_count": 30,
     "metadata": {},
     "output_type": "execute_result"
    }
   ],
   "source": [
    "country_stats = pd.read_excel('naciones.xlsx')\n",
    "country_stats[:3]\n",
    "\n",
    "country_stats.tail()"
   ]
  },
  {
   "cell_type": "code",
   "execution_count": 31,
   "metadata": {},
   "outputs": [
    {
     "name": "stdout",
     "output_type": "stream",
     "text": [
      "(29, 1) (29, 1)\n"
     ]
    }
   ],
   "source": [
    "X = np.c_[country_stats['GDP per capita']]\n",
    "y = np.c_[country_stats['Life satisfaction']]\n",
    "print(X.shape, y.shape)"
   ]
  },
  {
   "cell_type": "code",
   "execution_count": 32,
   "metadata": {},
   "outputs": [
    {
     "data": {
      "image/png": "[encoded data removed]",
      "text/plain": [
       "<Figure size 432x288 with 1 Axes>"
      ]
     },
     "metadata": {
      "needs_background": "light"
     },
     "output_type": "display_data"
    }
   ],
   "source": [
    "# Visualize the data\n",
    "country_stats.plot(kind='scatter', x='GDP per capita', y='Life satisfaction')\n",
    "plt.show()"
   ]
  },
  {
   "cell_type": "markdown",
   "metadata": {},
   "source": [
    "Al ver el gráfico, se nota una cierta tendencia. Aunque hay cierto ruido en los datos, se percibe más o menos una dependencia lineal entre nivel de satisfacción en la vida con ingresos per capita.\n",
    "\n",
    "Es allí donde se propone un modelo lineal simple tal como:\n",
    "\n",
    "$$\\text{Life satisfaction} = m \\cdot \\text{GDP per capita} + b$$\n",
    "\n",
    "Los parámetros de dicho modelo son $m$ y $b$. Dados los valores de $m$ y $b$, se obtiene un modelo que podría o no, ajustar bien los datos. Para precisar las ideas, se tiene que construir una función me mide el desempeño de un modelo, por ejemplo, midiendo el desajuste en términos de la suma de diferencias cuadráticas entre valores reales y valores que predice el modelo.\n",
    "\n",
    "Al proceso de construcción de los parámetros $m$ y $b$ que minimicen el desajuste (es decir, que optimizan el desempeño) se le conoce como etapa de **entrenamiento** del modelo. Dicha etapa en términos técnicos, se lleva a cabo al usar el método `.fit` sobre una instancia de la clase de modelos que se consideren."
   ]
  },
  {
   "cell_type": "code",
   "execution_count": 33,
   "metadata": {},
   "outputs": [
    {
     "name": "stdout",
     "output_type": "stream",
     "text": [
      "intercepto: 4.853052800266436\n",
      "pendiente: 4.911544589158484e-05\n",
      "predicción:  [[5.96242338]]\n"
     ]
    }
   ],
   "source": [
    "# Select a model\n",
    "model = LinearRegression()\n",
    "\n",
    "# Train the model\n",
    "model.fit(X, y)\n",
    "b, m = model.intercept_[0], model.coef_[0][0]\n",
    "print(f'intercepto: {b}')\n",
    "print(f'pendiente: {m}')\n",
    "# Make a prediction\n",
    "X_new = [[22587]]\n",
    "print('predicción: ', model.predict(X_new))"
   ]
  },
  {
   "cell_type": "markdown",
   "metadata": {},
   "source": [
    "En el código anterior se ha utilizado otro método (de uso frecuente) y es `.predict`, que se usa para estimar el valor de la variable dependiente (en este caso Life satisfaction) sobre un datos o datos nuevos que no participaron de la etapa de entrenamiento.\n",
    "\n",
    "Si en lugar de predecir sobre un valor, se hace sobre un intervalo de valores, entonces se puede ver en forma más intuitiva el modelo, a partir de un gráfico."
   ]
  },
  {
   "cell_type": "code",
   "execution_count": 34,
   "metadata": {},
   "outputs": [
    {
     "data": {
      "image/png": "[encoded data removed]",
      "text/plain": [
       "<Figure size 360x216 with 1 Axes>"
      ]
     },
     "metadata": {
      "needs_background": "light"
     },
     "output_type": "display_data"
    }
   ],
   "source": [
    "\n",
    "\n",
    "country_stats.plot(kind='scatter', x=\"GDP per capita\", y='Life satisfaction', figsize=(5,3))\n",
    "plt.xlabel(\"GDP per capita (USD)\")\n",
    "plt.axis([0, 60000, 0, 10])\n",
    "x_s=np.linspace(0, 60000, 1000)\n",
    "plt.plot(x_s, m*x_s + b, \"b\")\n",
    "\n",
    "plt.text(5000, 3.1, r\"$b = 4.85, \\ intercepto$\", fontsize=14, color=\"b\")\n",
    "plt.text(5000, 2.2, r\"$m = 4.91 \\times 10^{-5}, \\ pendiente$\", fontsize=14, color=\"b\")\n",
    "plt.show()\n"
   ]
  },
  {
   "cell_type": "markdown",
   "metadata": {},
   "source": [
    "Hay algunos desafíos que se presentan al entrenar un modelo. Entre ellos está, que los datos usados para el entrenamiento no sean representativos. Por ejemplo, suponga que hay otras naciones que no fueron consideradas en el entrenamiento del modelo. Se tomarán Brazil, Mexico, Chile y Czech Republic (con bajo GDP per capita) y por otro lado Norway, Switzerland y Luxembourg (con alto GDP per capita). Es posible que el modelo que se entrenó sin esos nuevos datos, no prediga bien sobre los mismos."
   ]
  },
  {
   "cell_type": "code",
   "execution_count": 35,
   "metadata": {},
   "outputs": [
    {
     "data": {
      "text/html": [
       "<div>\n",
       "<style scoped>\n",
       "    .dataframe tbody tr th:only-of-type {\n",
       "        vertical-align: middle;\n",
       "    }\n",
       "\n",
       "    .dataframe tbody tr th {\n",
       "        vertical-align: top;\n",
       "    }\n",
       "\n",
       "    .dataframe thead th {\n",
       "        text-align: right;\n",
       "    }\n",
       "</style>\n",
       "<table border=\"1\" class=\"dataframe\">\n",
       "  <thead>\n",
       "    <tr style=\"text-align: right;\">\n",
       "      <th></th>\n",
       "      <th>Country</th>\n",
       "      <th>GDP per capita</th>\n",
       "      <th>Life satisfaction</th>\n",
       "    </tr>\n",
       "  </thead>\n",
       "  <tbody>\n",
       "    <tr>\n",
       "      <th>0</th>\n",
       "      <td>Brazil</td>\n",
       "      <td>8669.998</td>\n",
       "      <td>7.0</td>\n",
       "    </tr>\n",
       "    <tr>\n",
       "      <th>1</th>\n",
       "      <td>Mexico</td>\n",
       "      <td>9009.280</td>\n",
       "      <td>6.7</td>\n",
       "    </tr>\n",
       "    <tr>\n",
       "      <th>2</th>\n",
       "      <td>Chile</td>\n",
       "      <td>13340.905</td>\n",
       "      <td>6.7</td>\n",
       "    </tr>\n",
       "    <tr>\n",
       "      <th>3</th>\n",
       "      <td>Czech Republic</td>\n",
       "      <td>17256.918</td>\n",
       "      <td>6.5</td>\n",
       "    </tr>\n",
       "    <tr>\n",
       "      <th>4</th>\n",
       "      <td>Norway</td>\n",
       "      <td>74822.106</td>\n",
       "      <td>7.4</td>\n",
       "    </tr>\n",
       "    <tr>\n",
       "      <th>5</th>\n",
       "      <td>Switzerland</td>\n",
       "      <td>80675.308</td>\n",
       "      <td>7.5</td>\n",
       "    </tr>\n",
       "    <tr>\n",
       "      <th>6</th>\n",
       "      <td>Luxembourg</td>\n",
       "      <td>101994.093</td>\n",
       "      <td>6.9</td>\n",
       "    </tr>\n",
       "  </tbody>\n",
       "</table>\n",
       "</div>"
      ],
      "text/plain": [
       "          Country  GDP per capita  Life satisfaction\n",
       "0          Brazil        8669.998                7.0\n",
       "1          Mexico        9009.280                6.7\n",
       "2           Chile       13340.905                6.7\n",
       "3  Czech Republic       17256.918                6.5\n",
       "4          Norway       74822.106                7.4\n",
       "5     Switzerland       80675.308                7.5\n",
       "6      Luxembourg      101994.093                6.9"
      ]
     },
     "execution_count": 35,
     "metadata": {},
     "output_type": "execute_result"
    }
   ],
   "source": [
    "some_countries_out_data = pd.DataFrame({\"Country\": [\"Brazil\", \"Mexico\", \"Chile\", \"Czech Republic\", \"Norway\", \"Switzerland\", \"Luxembourg\"],\n",
    "                                        \"GDP per capita\": [8669.998,9009.280,13340.905,17256.918,74822.106,80675.308,101994.093],\n",
    "                                        \"Life satisfaction\": [7.0,6.7, 6.7, 6.5, 7.4, 7.5, 6.9]})\n",
    "some_countries_out_data"
   ]
  },
  {
   "cell_type": "code",
   "execution_count": 36,
   "metadata": {},
   "outputs": [],
   "source": [
    "all_countries = country_stats.merge(some_countries_out_data, how='outer')"
   ]
  },
  {
   "cell_type": "code",
   "execution_count": 38,
   "metadata": {},
   "outputs": [
    {
     "data": {
      "image/png": "[encoded data removed]",
      "text/plain": [
       "<Figure size 360x216 with 1 Axes>"
      ]
     },
     "metadata": {
      "needs_background": "light"
     },
     "output_type": "display_data"
    }
   ],
   "source": [
    "all_countries.plot(kind='scatter', x=\"GDP per capita\", y='Life satisfaction', figsize=(5,3))\n",
    "plt.xlabel(\"GDP per capita (USD)\")\n",
    "plt.axis([0, 90000, 0, 10])\n",
    "plt.scatter(all_countries[29:]['GDP per capita'], all_countries[29:]['Life satisfaction'], color='red', label='Brazil, ... , Luxemburg')\n",
    "x_s=np.linspace(0, 90000, 1000)\n",
    "plt.plot(x_s, m*x_s + b, \"b\")\n",
    "plt.legend(loc='lower right')\n",
    "plt.show()"
   ]
  },
  {
   "cell_type": "code",
   "execution_count": 41,
   "metadata": {},
   "outputs": [
    {
     "name": "stdout",
     "output_type": "stream",
     "text": [
      "intercepto: 5.763029861307918\n",
      "pendiente: 2.3177337047396064e-05\n"
     ]
    },
    {
     "data": {
      "image/png": "[encoded data removed]",
      "text/plain": [
       "<Figure size 360x216 with 1 Axes>"
      ]
     },
     "metadata": {
      "needs_background": "light"
     },
     "output_type": "display_data"
    }
   ],
   "source": [
    "# model on all the data\n",
    "model_full = LinearRegression()\n",
    "\n",
    "# Train the model\n",
    "X_full = np.c_[all_countries['GDP per capita']]\n",
    "y_full = np.c_[all_countries['Life satisfaction']]\n",
    "\n",
    "model_full.fit(X_full, y_full)\n",
    "b_full, m_full = model_full.intercept_[0], model_full.coef_[0][0]\n",
    "print(f'intercepto: {b_full}')\n",
    "print(f'pendiente: {m_full}')\n",
    "\n",
    "all_countries.plot(kind='scatter', x=\"GDP per capita\", y='Life satisfaction', figsize=(5,3))\n",
    "plt.xlabel(\"GDP per capita (USD)\")\n",
    "plt.axis([0, 90000, 0, 10])\n",
    "plt.scatter(all_countries[29:]['GDP per capita'], all_countries[29:]['Life satisfaction'], color='red', label='Brazil, ... , Luxemburg')\n",
    "x_s=np.linspace(0, 90000, 1000)\n",
    "plt.plot(x_s, m*x_s + b, \"b\", label='model')\n",
    "plt.plot(x_s, m_full*x_s + b_full, \"r--\", label='model_full')\n",
    "plt.legend(loc='lower right')\n",
    "plt.show()\n"
   ]
  },
  {
   "cell_type": "code",
   "execution_count": 46,
   "metadata": {},
   "outputs": [
    {
     "name": "stderr",
     "output_type": "stream",
     "text": [
      "/usr/lib/python3.9/site-packages/numpy/lib/nanfunctions.py:1544: RuntimeWarning: overflow encountered in multiply\n",
      "  sqr = np.multiply(arr, arr, out=arr)\n",
      "/usr/lib/python3.9/site-packages/numpy/core/fromnumeric.py:87: RuntimeWarning: overflow encountered in reduce\n",
      "  return ufunc.reduce(obj, axis, dtype, out, **passkwargs)\n"
     ]
    },
    {
     "data": {
      "image/png": "[encoded data removed]",
      "text/plain": [
       "<Figure size 576x216 with 1 Axes>"
      ]
     },
     "metadata": {
      "needs_background": "light"
     },
     "output_type": "display_data"
    }
   ],
   "source": [
    "all_countries.plot(kind='scatter', x=\"GDP per capita\", y='Life satisfaction', figsize=(8,3))\n",
    "plt.axis([0, 100000, 0, 10])\n",
    "\n",
    "from sklearn import preprocessing\n",
    "from sklearn import pipeline\n",
    "\n",
    "poly = preprocessing.PolynomialFeatures(degree=60, include_bias=False)\n",
    "scaler = preprocessing.StandardScaler()\n",
    "lin_reg2 = LinearRegression()\n",
    "\n",
    "pipeline_reg = pipeline.Pipeline([('poly', poly), ('scal', scaler), ('lin', lin_reg2)])\n",
    "pipeline_reg.fit(X_full, y_full)\n",
    "x_s=np.linspace(0, 90000, 1000)\n",
    "curve = pipeline_reg.predict(x_s.reshape(-1,1))\n",
    "plt.plot(x_s, curve)\n",
    "plt.xlabel(\"GDP per capita (USD)\")\n",
    "plt.show()"
   ]
  },
  {
   "cell_type": "code",
   "execution_count": 49,
   "metadata": {},
   "outputs": [
    {
     "data": {
      "image/png": "[encoded data removed]",
      "text/plain": [
       "<Figure size 576x216 with 1 Axes>"
      ]
     },
     "metadata": {
      "needs_background": "light"
     },
     "output_type": "display_data"
    }
   ],
   "source": [
    "from sklearn.linear_model import Ridge\n",
    "\n",
    "plt.figure(figsize=(8,3))\n",
    "\n",
    "plt.xlabel(\"GDP per capita\")\n",
    "plt.ylabel('Life satisfaction')\n",
    "\n",
    "plt.plot(list(country_stats[\"GDP per capita\"]), list(country_stats[\"Life satisfaction\"]), \"bo\")\n",
    "plt.plot(list(all_countries[29:][\"GDP per capita\"]), list(all_countries[29:][\"Life satisfaction\"]), \"rs\")\n",
    "\n",
    "x_s = np.linspace(0, 110000, 1000)\n",
    "plt.plot(x_s, b_full + m_full * x_s, \"r--\", label=\"Linear model on all data\")\n",
    "plt.plot(x_s, b + m*x_s, \"b:\", label=\"Linear model on partial data\")\n",
    "\n",
    "ridge = Ridge(alpha=10**9.5)\n",
    "Xsample = np.c_[country_stats[\"GDP per capita\"]]\n",
    "ysample = np.c_[country_stats[\"Life satisfaction\"]]\n",
    "ridge.fit(Xsample, ysample)\n",
    "b_ridge, m_ridge = ridge.intercept_[0], ridge.coef_[0][0]\n",
    "plt.plot(x_s, b_ridge + m_ridge * x_s, \"b\", label=\"Regularized linear model on partial data\")\n",
    "\n",
    "plt.legend(loc=\"lower right\")\n",
    "plt.axis([0, 110000, 0, 10])\n",
    "plt.xlabel(\"GDP per capita (USD)\")\n",
    "plt.show()"
   ]
  },
  {
   "cell_type": "markdown",
   "metadata": {},
   "source": [
    "Existen unos desafíos en el proceso de creación de modelos a partir de los datos. Simplificando, se enfrenta el problema de tener **datos en poca cantidad o de poca calidad** o **algoritmo inadecuado para constuir el modelo**. Existe la posiblidad de que el modelo construido ajuste muy bien los datos que se usan en su construcción, pero que tenga un bajo desempeño con datos no involucrados en la construcción misma del modelo. Buenos resultados en ajuste pero malos resultados en predicción sobre datos nuevos, se conoce como el problema del sobreajuste y la forma de resolverlo es con la técnica de la regularización, que en cierto modo reduce la clase de modelos candidatos a constuir. \n",
    "\n",
    "En el caso en el que no se logre construir un modelo que logre capturar la estructura subyacente en los datos, se procura incluir más parámetros al modelo (crear un modelo un poco más complejo) o crear nuevos atributos (ingeniería de atributos).\n",
    "\n"
   ]
  },
  {
   "cell_type": "markdown",
   "metadata": {},
   "source": []
  }
 ],
 "metadata": {
  "kernelspec": {
   "display_name": "Python 3.9.5 64-bit",
   "language": "python",
   "name": "python3"
  },
  "language_info": {
   "codemirror_mode": {
    "name": "ipython",
    "version": 3
   },
   "file_extension": ".py",
   "mimetype": "text/x-python",
   "name": "python",
   "nbconvert_exporter": "python",
   "pygments_lexer": "ipython3",
   "version": "3.9.5"
  },
  "orig_nbformat": 4,
  "vscode": {
   "interpreter": {
    "hash": "e7370f93d1d0cde622a1f8e1c04877d8463912d04d973331ad4851f04de6915a"
   }
  }
 },
 "nbformat": 4,
 "nbformat_minor": 2
}
